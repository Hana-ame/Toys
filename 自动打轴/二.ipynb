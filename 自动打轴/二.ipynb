{
 "metadata": {
  "language_info": {
   "codemirror_mode": {
    "name": "ipython",
    "version": 3
   },
   "file_extension": ".py",
   "mimetype": "text/x-python",
   "name": "python",
   "nbconvert_exporter": "python",
   "pygments_lexer": "ipython3",
   "version": "3.7.5-final"
  },
  "orig_nbformat": 2,
  "kernelspec": {
   "name": "python37564bit7b4de871692d4b409085c5dd647353c9",
   "display_name": "Python 3.7.5 64-bit"
  },
  "metadata": {
   "interpreter": {
    "hash": "57baa5815c940fdaff4d14510622de9616cae602444507ba5d0b6727c008cbd6"
   }
  }
 },
 "nbformat": 4,
 "nbformat_minor": 2,
 "cells": [
  {
   "cell_type": "code",
   "execution_count": 1,
   "metadata": {},
   "outputs": [],
   "source": [
    "import cv2 \n",
    "import numpy as np \n",
    "import matplotlib.pyplot as plt"
   ]
  },
  {
   "cell_type": "code",
   "execution_count": 2,
   "metadata": {},
   "outputs": [],
   "source": [
    "class Recoder:\n",
    "    def __init__(self, dest, 记录count = True, 记录ms = False):\n",
    "        self.f = open(dest, 'w+', encoding = 'utf-8')\n",
    "        if 记录count:\n",
    "            self.记录 = self.记录count\n",
    "        else:\n",
    "            self.记录 = self.不记录count\n",
    "        if 记录ms:\n",
    "            self.记录 = self.记录ms\n",
    "    def 不记录count(self, ms, count=0):\n",
    "        h,m,s,ms = self.时间点(ms)\n",
    "        msg = \"{}:{:0>2d}:{:0>2d}.{:0>3d},\\n\".format(h,m,s,ms)\n",
    "        self.f.write(msg)\n",
    "    def 记录count(self, ms, count):\n",
    "        h,m,s,ms = self.时间点(ms)\n",
    "        msg = \"{}:{:0>2d}:{:0>2d}.{:0>3d},{}\\n\".format(h,m,s,ms,count)\n",
    "        self.f.write(msg)\n",
    "    def 记录count(self, milliseconds, count):\n",
    "        h,m,s,ms = self.时间点(milliseconds)\n",
    "        msg = \"{},{}:{:0>2d}:{:0>2d}.{:0>3d}\\n\".format(int(milliseconds),h,m,s,ms)\n",
    "        self.f.write(msg)\n",
    "    def 时间点(self, milliseconds):\n",
    "        ms = milliseconds % 1000\n",
    "        ms = ms // 1\n",
    "        s  = milliseconds // 1000\n",
    "        m  = s // 60\n",
    "        s  = s % 60\n",
    "        h  = m // 60\n",
    "        m  = m % 60    \n",
    "        return int(h),int(m),int(s),int(ms)\n",
    "    def close(self):\n",
    "        self.f.close()"
   ]
  },
  {
   "cell_type": "code",
   "execution_count": 3,
   "metadata": {},
   "outputs": [],
   "source": [
    "k_h=-np.array([[-1,-2,-1],[0,0,0],[1,2,1]])/4\n",
    "k_v=-np.array([[-1,0,1],[-2,0,2],[-1,0,1]])/4\n",
    "def 卷积and计数(img, c1, c2 = np.array([255,255,255]), threshold = 72):\n",
    "    dst   = cv2.filter2D(img, -1 ,  k_h)\n",
    "    ndst  = c2-c1-dst\n",
    "    mask  = np.sum(np.abs(ndst),axis=2) < threshold\n",
    "    dst   = cv2.filter2D(img, -1 , -k_h)\n",
    "    ndst  = c2-c1-dst\n",
    "    mask |= np.sum(np.abs(ndst),axis=2) < threshold\n",
    "    dst   = cv2.filter2D(img, -1 ,  k_v)\n",
    "    ndst  = c2-c1-dst\n",
    "    mask |= np.sum(np.abs(ndst),axis=2) < threshold\n",
    "    dst   = cv2.filter2D(img, -1 , -k_v)\n",
    "    ndst  = c2-c1-dst\n",
    "    mask |= np.sum(np.abs(ndst),axis=2) < threshold\n",
    "    return mask.sum()"
   ]
  },
  {
   "cell_type": "code",
   "execution_count": 4,
   "metadata": {},
   "outputs": [],
   "source": [
    "cameraCapture = cv2.VideoCapture('./079.mp4')\n",
    "r1 =Recoder(\"r1.csv\")\n",
    "r2 =Recoder(\"r2.csv\")"
   ]
  },
  {
   "cell_type": "code",
   "execution_count": 23,
   "metadata": {},
   "outputs": [
    {
     "output_type": "execute_result",
     "data": {
      "text/plain": [
       "True"
      ]
     },
     "metadata": {},
     "execution_count": 23
    }
   ],
   "source": [
    "success = True\n",
    "上次count = 0\n",
    "count = 0\n",
    "# 抓轴过程\n",
    "while success:\n",
    "    if cv2.waitKey(1) == 27:\n",
    "        break\n",
    "    success, frame = cameraCapture.read()\n",
    "    milliseconds = cameraCapture.get(cv2.CAP_PROP_POS_MSEC)\n",
    "\n",
    "    canvas = np.zeros((720,1280,3), dtype=np.uint8) # 过程查看\n",
    "\n",
    "    # 字幕区\n",
    "    subFrame = frame[600:720,:]\n",
    "    canvas[0:120,:,:] = subFrame[:,:,:] # 过程查看\n",
    "\n",
    "    # 求差\n",
    "    # count = 卷积and计数(subFrame.copy(), np.array([189,44,20]))\n",
    "\n",
    "    # r1.记录(milliseconds, count)\n",
    "    # if (np.abs(上次count - count) > 192):\n",
    "        # r2.记录(milliseconds, count)\n",
    "    cv2.imshow('Test camera', canvas)\n",
    "    # 上次count = count \n",
    "cv2.destroyAllWindows()\n",
    "cv2.imwrite('ocr.png',subFrame)"
   ]
  },
  {
   "cell_type": "code",
   "execution_count": 13,
   "metadata": {},
   "outputs": [],
   "source": []
  },
  {
   "cell_type": "code",
   "execution_count": 16,
   "metadata": {},
   "outputs": [],
   "source": [
    "while 1:\n",
    "    if cv2.waitKey(1) == 27:\n",
    "        break\n",
    "    cv2.imshow('Test camera', subFrame)\n",
    "cv2.destroyAllWindows()"
   ]
  },
  {
   "cell_type": "code",
   "execution_count": 21,
   "metadata": {},
   "outputs": [
    {
     "output_type": "execute_result",
     "data": {
      "text/plain": [
       "True"
      ]
     },
     "metadata": {},
     "execution_count": 21
    }
   ],
   "source": [
    "cv2.imwrite('ocr.png',subFrame)"
   ]
  },
  {
   "cell_type": "code",
   "execution_count": null,
   "metadata": {},
   "outputs": [],
   "source": []
  }
 ]
}