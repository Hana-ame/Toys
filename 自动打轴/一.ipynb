{
 "metadata": {
  "language_info": {
   "codemirror_mode": {
    "name": "ipython",
    "version": 3
   },
   "file_extension": ".py",
   "mimetype": "text/x-python",
   "name": "python",
   "nbconvert_exporter": "python",
   "pygments_lexer": "ipython3",
   "version": "3.7.5-final"
  },
  "orig_nbformat": 2,
  "kernelspec": {
   "name": "python37564bit7b4de871692d4b409085c5dd647353c9",
   "display_name": "Python 3.7.5 64-bit"
  },
  "metadata": {
   "interpreter": {
    "hash": "57baa5815c940fdaff4d14510622de9616cae602444507ba5d0b6727c008cbd6"
   }
  }
 },
 "nbformat": 4,
 "nbformat_minor": 2,
 "cells": [
  {
   "cell_type": "code",
   "execution_count": 1,
   "metadata": {},
   "outputs": [],
   "source": [
    "import cv2 \n",
    "import numpy as np \n",
    "import matplotlib.pyplot as plt"
   ]
  },
  {
   "cell_type": "code",
   "execution_count": 2,
   "metadata": {},
   "outputs": [],
   "source": [
    "import time"
   ]
  },
  {
   "cell_type": "code",
   "execution_count": 3,
   "metadata": {},
   "outputs": [],
   "source": [
    "上次count = 0\n",
    "def 记录(milliseconds, count):\n",
    "    h,m,s,ms = 时间点(milliseconds)\n",
    "    msg = \"{}:{:0>2d}:{:0>2d}.{:0>3d},{}\\n\".format(h,m,s,ms,count)\n",
    "    file1.write(msg)\n",
    "def 记录2(milliseconds, count):\n",
    "    # global 上次count\n",
    "    if abs(count - 上次count) > 1024:\n",
    "        h,m,s,ms = 时间点(milliseconds)\n",
    "        msg = \"{}:{:0>2d}:{:0>2d}.{:0>3d}\\n\".format(h,m,s,ms)\n",
    "        file2.write(msg)\n",
    "    # 上次count = count\n",
    "def 时间点(milliseconds):\n",
    "    ms = milliseconds % 1000\n",
    "    ms = ms // 1\n",
    "    s  = milliseconds // 1000\n",
    "    m  = s // 60\n",
    "    s  = s % 60\n",
    "    h  = m // 60\n",
    "    m  = m % 60\n",
    "    \n",
    "    return int(h),int(m),int(s),int(ms)\n",
    "def 做差(f1, c1, c2 = np.array([255,255,255]), threshold = 128):\n",
    "    # f21 = np.concatenate( (f1[:,2:,:], f1[:,:-2,:]), axis = 2 )\n",
    "    # f22 = np.concatenate( (f1[2:,:,:], f1[:-2,:,:]), axis = 2 )\n",
    "    f2 = np.concatenate( (f1[:,2:,:], f1[:,:-2,:]), axis = 2 )\n",
    "    \n",
    "    f31 = f2 - np.concatenate( (c1,c2) )\n",
    "    f41 = np.sum(np.abs(f31),axis=2)\n",
    "    f51 = f41 < threshold\n",
    "    \n",
    "    f32 = f2 - np.concatenate( (c2,c1) )\n",
    "    f42 = np.sum(np.abs(f32),axis=2)\n",
    "    f52 = f42 < threshold\n",
    "\n",
    "    f61 = f51+f52\n",
    "    x, y = f61.shape\n",
    "    f71 = f61.repeat(3).reshape(x, y, 3)\n",
    "\n",
    "    f2 = np.concatenate( (f1[2:,:,:], f1[:-2,:,:]), axis = 2 )\n",
    "    \n",
    "    f31 = f2 - np.concatenate( (c1,c2) )\n",
    "    f41 = np.sum(np.abs(f31),axis=2)\n",
    "    f51 = f41 < threshold\n",
    "    \n",
    "    f32 = f2 - np.concatenate( (c2,c1) )\n",
    "    f42 = np.sum(np.abs(f32),axis=2)\n",
    "    f52 = f42 < threshold\n",
    "    \n",
    "    f62 = f51+f52\n",
    "    x, y = f62.shape\n",
    "    f72 = f62.repeat(3).reshape(x, y, 3)\n",
    "\n",
    "    count = f71.sum()+f72.sum()\n",
    "    return f72, f71, count"
   ]
  },
  {
   "cell_type": "code",
   "execution_count": 4,
   "metadata": {},
   "outputs": [],
   "source": [
    "file1 = open( 'file.txt','w+', encoding = 'utf-8')\n",
    "file2 = open( 'logfile.txt','w+', encoding = 'utf-8')"
   ]
  },
  {
   "cell_type": "code",
   "execution_count": 5,
   "metadata": {},
   "outputs": [],
   "source": [
    "cameraCapture = cv2.VideoCapture('./079.mp4')"
   ]
  },
  {
   "cell_type": "code",
   "execution_count": 6,
   "metadata": {},
   "outputs": [],
   "source": [
    "success = True\n",
    "preFrame = np.zeros((120,1280,3), dtype=np.uint8)"
   ]
  },
  {
   "source": [
    "lastEdge = 0\n",
    "上次count = 0 \n",
    "上升list = []\n",
    "下降list = []\n",
    "def 记录count(count):\n",
    "    if   ( (count-上次count) > 192 ):\n",
    "        lastEdge = 1\n",
    "        h,m,s,ms = 时间点(milliseconds)\n",
    "        msg = \"{}:{:0>2d}:{:0>2d}.{},{:0>3d}\\n\".format(h,m,s,ms,count)\n",
    "        上升list.append(msg)\n",
    "    elif ( (count-上次count) < -192 ):\n",
    "        lastEdge = -1\n",
    "        h,m,s,ms = 时间点(milliseconds)\n",
    "        msg = \"{}:{:0>2d}:{:0>2d}.{},{:0>3d}\\n\".format(h,m,s,ms,count)\n",
    "        下降list.append(msg)"
   ],
   "cell_type": "markdown",
   "metadata": {}
  },
  {
   "cell_type": "code",
   "execution_count": 7,
   "metadata": {},
   "outputs": [
    {
     "output_type": "error",
     "ename": "TypeError",
     "evalue": "'NoneType' object is not subscriptable",
     "traceback": [
      "\u001b[1;31m---------------------------------------------------------------------------\u001b[0m",
      "\u001b[1;31mTypeError\u001b[0m                                 Traceback (most recent call last)",
      "\u001b[1;32m<ipython-input-7-14039e503022>\u001b[0m in \u001b[0;36m<module>\u001b[1;34m\u001b[0m\n\u001b[0;32m      9\u001b[0m \u001b[1;33m\u001b[0m\u001b[0m\n\u001b[0;32m     10\u001b[0m     \u001b[1;31m# 字幕区\u001b[0m\u001b[1;33m\u001b[0m\u001b[1;33m\u001b[0m\u001b[1;33m\u001b[0m\u001b[0m\n\u001b[1;32m---> 11\u001b[1;33m     \u001b[0msubFrame\u001b[0m \u001b[1;33m=\u001b[0m \u001b[0mframe\u001b[0m\u001b[1;33m[\u001b[0m\u001b[1;36m600\u001b[0m\u001b[1;33m:\u001b[0m\u001b[1;36m720\u001b[0m\u001b[1;33m,\u001b[0m\u001b[1;33m:\u001b[0m\u001b[1;33m]\u001b[0m\u001b[1;33m\u001b[0m\u001b[1;33m\u001b[0m\u001b[0m\n\u001b[0m\u001b[0;32m     12\u001b[0m     \u001b[0mcanvas\u001b[0m\u001b[1;33m[\u001b[0m\u001b[1;36m0\u001b[0m\u001b[1;33m:\u001b[0m\u001b[1;36m120\u001b[0m\u001b[1;33m,\u001b[0m\u001b[1;33m:\u001b[0m\u001b[1;33m,\u001b[0m\u001b[1;33m:\u001b[0m\u001b[1;33m]\u001b[0m \u001b[1;33m=\u001b[0m \u001b[0msubFrame\u001b[0m\u001b[1;33m[\u001b[0m\u001b[1;33m:\u001b[0m\u001b[1;33m,\u001b[0m\u001b[1;33m:\u001b[0m\u001b[1;33m,\u001b[0m\u001b[1;33m:\u001b[0m\u001b[1;33m]\u001b[0m \u001b[1;31m# 过程查看\u001b[0m\u001b[1;33m\u001b[0m\u001b[1;33m\u001b[0m\u001b[0m\n\u001b[0;32m     13\u001b[0m \u001b[1;33m\u001b[0m\u001b[0m\n",
      "\u001b[1;31mTypeError\u001b[0m: 'NoneType' object is not subscriptable"
     ]
    }
   ],
   "source": [
    "# 抓轴过程\n",
    "while success:\n",
    "    if cv2.waitKey(1) == 27:\n",
    "        break\n",
    "    success, frame = cameraCapture.read()\n",
    "    milliseconds = cameraCapture.get(cv2.CAP_PROP_POS_MSEC)\n",
    "\n",
    "    canvas = np.zeros((720,1280,3), dtype=np.uint8) # 过程查看\n",
    "\n",
    "    # 字幕区\n",
    "    subFrame = frame[600:720,:]\n",
    "    canvas[0:120,:,:] = subFrame[:,:,:] # 过程查看\n",
    "\n",
    "    # 求差\n",
    "    x,y, count = 做差(subFrame.copy(), np.array([189,44,20]))\n",
    "\n",
    "    记录(milliseconds, count)\n",
    "    记录2(milliseconds, count)\n",
    "    # cv2.imshow('Test camera', canvas)\n",
    "    上次count = count \n",
    "cv2.destroyAllWindows()\n",
    "    "
   ]
  },
  {
   "cell_type": "code",
   "execution_count": null,
   "metadata": {},
   "outputs": [],
   "source": [
    "file2.close()"
   ]
  },
  {
   "cell_type": "code",
   "execution_count": 9,
   "metadata": {},
   "outputs": [],
   "source": [
    "# 收尾\n",
    "file1.close()\n",
    "file2.close()"
   ]
  },
  {
   "source": [
    "下面是测试内容"
   ],
   "cell_type": "markdown",
   "metadata": {}
  },
  {
   "cell_type": "code",
   "execution_count": null,
   "metadata": {},
   "outputs": [],
   "source": [
    "while success:\n",
    "    # if cv2.waitKey(1) == 27:\n",
    "    #     break\n",
    "    success, frame = cameraCapture.read()\n",
    "    milliseconds = cameraCapture.get(cv2.CAP_PROP_POS_MSEC)\n",
    "\n",
    "    canvas = np.zeros((1080-120,1280,3), dtype=np.uint8)\n",
    "    # canvas[240:360,:,:] = preFrame[:,:,:]\n",
    "    # preFrame[:,:,:] = frame[600:720,:]\n",
    "\n",
    "    subFrame = frame[600:720,:]\n",
    "    canvas[0:120,:,:] = subFrame[:,:,:]\n",
    "\n",
    "    lbimg=cv2.medianBlur(subFrame,3)\n",
    "    canvas[120:240,:,:] = lbimg[:,:,:]\n",
    "\n",
    "    sub1 = cv2.subtract(subFrame,preFrame)\n",
    "    sub2 = cv2.subtract(preFrame,subFrame)\n",
    "    canvas[360:480,:,:] = sub1[:,:,:]\n",
    "    canvas[480:600,:,:] = sub2[:,:,:]\n",
    "\n",
    "    shiro = 魔棒(subFrame.copy(), np.array([255,255,255]) )\n",
    "    canvas[600:720,:,:] = shiro[:,:,:]\n",
    "    pink = 魔棒(subFrame.copy(), np.array([171,0,231]) ) # BGR  × RGB\n",
    "    canvas[720:840,:,:] = pink[:,:,:]\n",
    "\n",
    "    x, count = 差(subFrame.copy(), np.array([171,0,231]), np.array([255,255,255]))\n",
    "    canvas[840:960,1:-1,:] = x[:,:,:]*255\n",
    "\n",
    "    preFrame = subFrame.copy()\n",
    "    cv2.imshow('Test camera', canvas)\n",
    "    # print(int(milliseconds))\n",
    "    file.write(\"{0},{1}\\n\".format(int(milliseconds),count.sum()))\n",
    "\n",
    "cv2.destroyAllWindows()"
   ]
  },
  {
   "cell_type": "code",
   "execution_count": null,
   "metadata": {},
   "outputs": [],
   "source": [
    "# im = subFrame\n",
    "while success:\n",
    "    if cv2.waitKey(1) == 27:\n",
    "        break\n",
    "    cv2.imshow('', im)\n",
    "cv2.destroyAllWindows()"
   ]
  },
  {
   "cell_type": "code",
   "execution_count": null,
   "metadata": {},
   "outputs": [],
   "source": [
    "def 魔棒(aI, color, threshold = 128):\n",
    "    t1 = aI - color\n",
    "    t2 = np.sum(np.abs(t1),axis=2)\n",
    "    t3 = t2 < threshold\n",
    "    t4 = t3 * 255\n",
    "    x, y = t4.shape\n",
    "    t5 = t4.repeat(3).reshape(x, y, 3)\n",
    "    return t5\n",
    "def 差(aI, c1, c2, threshold = 128):\n",
    "    f1 = aI\n",
    "    f2 = np.concatenate( (f1[:,2:,:], f1[:,:-2,:]), axis = 2 )\n",
    "    \n",
    "    f31 = f2 - np.concatenate( (c1,c2) )\n",
    "    f41 = np.sum(np.abs(f31),axis=2)\n",
    "    f51 = f41 < threshold\n",
    "    \n",
    "    f32 = f2 - np.concatenate( (c2,c1) )\n",
    "    f42 = np.sum(np.abs(f32),axis=2)\n",
    "    f52 = f42 < threshold\n",
    "\n",
    "    f5 = f51+f52\n",
    "\n",
    "        \n",
    "\n",
    "\n",
    "\n",
    "    x, y = f5.shape\n",
    "    f6 = f5.repeat(3).reshape(x, y, 3)\n",
    "    return (f6, f5)"
   ]
  },
  {
   "cell_type": "code",
   "execution_count": null,
   "metadata": {},
   "outputs": [],
   "source": [
    "f.close()"
   ]
  },
  {
   "cell_type": "code",
   "execution_count": null,
   "metadata": {},
   "outputs": [],
   "source": [
    "B = np.arange(1,5).reshape(2,2)  #原始输入数组"
   ]
  },
  {
   "cell_type": "code",
   "execution_count": null,
   "metadata": {},
   "outputs": [],
   "source": [
    "cv2.destroyAllWindows()"
   ]
  },
  {
   "cell_type": "code",
   "execution_count": null,
   "metadata": {},
   "outputs": [],
   "source": []
  },
  {
   "cell_type": "code",
   "execution_count": null,
   "metadata": {},
   "outputs": [],
   "source": []
  },
  {
   "cell_type": "code",
   "execution_count": null,
   "metadata": {},
   "outputs": [],
   "source": [
    "im = f6*255"
   ]
  },
  {
   "cell_type": "code",
   "execution_count": null,
   "metadata": {},
   "outputs": [],
   "source": [
    "# canvas[840:960,1:-1,:] = f2[:,:,:3]\n",
    "c2 = np.array([171,0,231])\n",
    "c1 = np.array([255,255,255])"
   ]
  },
  {
   "cell_type": "code",
   "execution_count": null,
   "metadata": {},
   "outputs": [],
   "source": [
    "a.shape"
   ]
  },
  {
   "source": [
    "\n",
    "    # seconds = milliseconds//1000\n",
    "    # milliseconds = milliseconds%1000\n",
    "    # minutes = 0\n",
    "    # hours = 0\n",
    "    # if seconds >= 60:\n",
    "    #     minutes = seconds//60\n",
    "    #     seconds = seconds % 60\n",
    "\n",
    "    # if minutes >= 60:\n",
    "    #     hours = minutes//60\n",
    "    #     minutes = minutes % 60\n",
    "    # print(frame)"
   ],
   "cell_type": "code",
   "metadata": {},
   "execution_count": null,
   "outputs": []
  }
 ]
}