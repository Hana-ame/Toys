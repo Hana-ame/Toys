{
 "metadata": {
  "language_info": {
   "codemirror_mode": {
    "name": "ipython",
    "version": 3
   },
   "file_extension": ".py",
   "mimetype": "text/x-python",
   "name": "python",
   "nbconvert_exporter": "python",
   "pygments_lexer": "ipython3",
   "version": "3.7.5-final"
  },
  "orig_nbformat": 2,
  "kernelspec": {
   "name": "python37564bit7b4de871692d4b409085c5dd647353c9",
   "display_name": "Python 3.7.5 64-bit"
  },
  "metadata": {
   "interpreter": {
    "hash": "57baa5815c940fdaff4d14510622de9616cae602444507ba5d0b6727c008cbd6"
   }
  }
 },
 "nbformat": 4,
 "nbformat_minor": 2,
 "cells": [
  {
   "cell_type": "code",
   "execution_count": 1,
   "metadata": {},
   "outputs": [],
   "source": [
    "import pandas as pd"
   ]
  },
  {
   "cell_type": "code",
   "execution_count": 58,
   "metadata": {},
   "outputs": [],
   "source": [
    "df = pd.read_csv(\"075黑2.csv\")"
   ]
  },
  {
   "cell_type": "code",
   "execution_count": 59,
   "metadata": {},
   "outputs": [
    {
     "output_type": "execute_result",
     "data": {
      "text/plain": [
       "                1     3\n",
       "0     0:00:00.534    86\n",
       "1     0:00:02.567     5\n",
       "2     0:00:09.934  1161\n",
       "3     0:00:09.967  1607\n",
       "4     0:00:10.001  2027\n",
       "...           ...   ...\n",
       "1156  0:33:27.901  1215\n",
       "1157  0:33:27.934  1390\n",
       "1158  0:33:27.967  1597\n",
       "1159  0:33:28.001  1639\n",
       "1160  0:33:31.767     0\n",
       "\n",
       "[1161 rows x 2 columns]"
      ],
      "text/html": "<div>\n<style scoped>\n    .dataframe tbody tr th:only-of-type {\n        vertical-align: middle;\n    }\n\n    .dataframe tbody tr th {\n        vertical-align: top;\n    }\n\n    .dataframe thead th {\n        text-align: right;\n    }\n</style>\n<table border=\"1\" class=\"dataframe\">\n  <thead>\n    <tr style=\"text-align: right;\">\n      <th></th>\n      <th>1</th>\n      <th>3</th>\n    </tr>\n  </thead>\n  <tbody>\n    <tr>\n      <th>0</th>\n      <td>0:00:00.534</td>\n      <td>86</td>\n    </tr>\n    <tr>\n      <th>1</th>\n      <td>0:00:02.567</td>\n      <td>5</td>\n    </tr>\n    <tr>\n      <th>2</th>\n      <td>0:00:09.934</td>\n      <td>1161</td>\n    </tr>\n    <tr>\n      <th>3</th>\n      <td>0:00:09.967</td>\n      <td>1607</td>\n    </tr>\n    <tr>\n      <th>4</th>\n      <td>0:00:10.001</td>\n      <td>2027</td>\n    </tr>\n    <tr>\n      <th>...</th>\n      <td>...</td>\n      <td>...</td>\n    </tr>\n    <tr>\n      <th>1156</th>\n      <td>0:33:27.901</td>\n      <td>1215</td>\n    </tr>\n    <tr>\n      <th>1157</th>\n      <td>0:33:27.934</td>\n      <td>1390</td>\n    </tr>\n    <tr>\n      <th>1158</th>\n      <td>0:33:27.967</td>\n      <td>1597</td>\n    </tr>\n    <tr>\n      <th>1159</th>\n      <td>0:33:28.001</td>\n      <td>1639</td>\n    </tr>\n    <tr>\n      <th>1160</th>\n      <td>0:33:31.767</td>\n      <td>0</td>\n    </tr>\n  </tbody>\n</table>\n<p>1161 rows × 2 columns</p>\n</div>"
     },
     "metadata": {},
     "execution_count": 59
    }
   ],
   "source": [
    "df"
   ]
  },
  {
   "cell_type": "code",
   "execution_count": 60,
   "metadata": {},
   "outputs": [],
   "source": [
    "df.insert(1,'2','')"
   ]
  },
  {
   "cell_type": "code",
   "execution_count": 61,
   "metadata": {},
   "outputs": [
    {
     "output_type": "stream",
     "name": "stderr",
     "text": [
      "ipykernel_launcher:2: SettingWithCopyWarning: \nA value is trying to be set on a copy of a slice from a DataFrame\n\nSee the caveats in the documentation: https://pandas.pydata.org/pandas-docs/stable/user_guide/indexing.html#returning-a-view-versus-a-copy\nC:\\Users\\lumin\\AppData\\Roaming\\Python\\Python37\\site-packages\\pandas\\core\\indexing.py:671: SettingWithCopyWarning: \nA value is trying to be set on a copy of a slice from a DataFrame\n\nSee the caveats in the documentation: https://pandas.pydata.org/pandas-docs/stable/user_guide/indexing.html#returning-a-view-versus-a-copy\n  self._setitem_with_indexer(indexer, value)\n"
     ]
    }
   ],
   "source": [
    "for i in range(len(df)-1):    \n",
    "    df['3'][i] = df['1'][i+1]"
   ]
  },
  {
   "cell_type": "code",
   "execution_count": 57,
   "metadata": {},
   "outputs": [],
   "source": [
    "df.loc[:,'1':'2'].to_csv('out.csv', index = False)"
   ]
  },
  {
   "cell_type": "code",
   "execution_count": 34,
   "metadata": {},
   "outputs": [],
   "source": [
    "df2 = df.sort_values(by=['时间'])"
   ]
  },
  {
   "cell_type": "code",
   "execution_count": 35,
   "metadata": {},
   "outputs": [
    {
     "output_type": "execute_result",
     "data": {
      "text/plain": [
       "      Unnamed: 0          时间  Unnamed: 2 Unnamed: 3  Unnamed: 4  Unnamed: 5  \\\n",
       "0    Dialogue: 0  0:00:38.40  0:00:41.13          粉         NaN           0   \n",
       "1    Dialogue: 0  0:00:41.43  0:00:45.90          粉         NaN           0   \n",
       "2    Dialogue: 0  0:00:46.20  0:00:51.20          粉         NaN           0   \n",
       "3    Dialogue: 0  0:00:52.13  0:00:55.90          粉         NaN           0   \n",
       "4    Dialogue: 0  0:00:57.86  0:01:01.80          粉         NaN           0   \n",
       "..           ...         ...         ...        ...         ...         ...   \n",
       "407  Dialogue: 0  1:00:19.00  1:00:20.46          青         NaN           0   \n",
       "408  Dialogue: 0  1:00:20.76  1:00:24.46          青         NaN           0   \n",
       "409  Dialogue: 0  1:00:27.10  1:00:36.43          青         NaN           0   \n",
       "410  Dialogue: 0  1:00:36.73  1:00:44.79          青         NaN           0   \n",
       "575  Dialogue: 0  1:00:45.10  1:00:47.36          黑         NaN           0   \n",
       "\n",
       "     Unnamed: 6  Unnamed: 7  Unnamed: 8                                台词  \n",
       "0             0           0         NaN                      A樱井 千纮 时年二十四  \n",
       "1             0           0         NaN                  A大学毕业之后，进了一家混蛋黑企  \n",
       "2             0           0         NaN              A为了不弄脏简历和同僚互相鼓励忍耐了下来  \n",
       "3             0           0         NaN                         A但是今天，我死了  \n",
       "4             0           0         NaN                    A然后现在，我正在被最终审判  \n",
       "..          ...         ...         ...                               ...  \n",
       "407           0           0         NaN                           A西之神「喂」  \n",
       "408           0           0         NaN                A西之神「你还不清楚自己上司是谁吗」  \n",
       "409           0           0         NaN               A西之神「啊♥ 我可是真正的神祗哦♥」  \n",
       "410           0           0         NaN  A西之神「呜啊♥ 改变自己的性别这种事情♥ 轻轻松松…啊 呜♥」  \n",
       "575           0           0         NaN                             A「是神」  \n",
       "\n",
       "[576 rows x 10 columns]"
      ],
      "text/html": "<div>\n<style scoped>\n    .dataframe tbody tr th:only-of-type {\n        vertical-align: middle;\n    }\n\n    .dataframe tbody tr th {\n        vertical-align: top;\n    }\n\n    .dataframe thead th {\n        text-align: right;\n    }\n</style>\n<table border=\"1\" class=\"dataframe\">\n  <thead>\n    <tr style=\"text-align: right;\">\n      <th></th>\n      <th>Unnamed: 0</th>\n      <th>时间</th>\n      <th>Unnamed: 2</th>\n      <th>Unnamed: 3</th>\n      <th>Unnamed: 4</th>\n      <th>Unnamed: 5</th>\n      <th>Unnamed: 6</th>\n      <th>Unnamed: 7</th>\n      <th>Unnamed: 8</th>\n      <th>台词</th>\n    </tr>\n  </thead>\n  <tbody>\n    <tr>\n      <th>0</th>\n      <td>Dialogue: 0</td>\n      <td>0:00:38.40</td>\n      <td>0:00:41.13</td>\n      <td>粉</td>\n      <td>NaN</td>\n      <td>0</td>\n      <td>0</td>\n      <td>0</td>\n      <td>NaN</td>\n      <td>A樱井 千纮 时年二十四</td>\n    </tr>\n    <tr>\n      <th>1</th>\n      <td>Dialogue: 0</td>\n      <td>0:00:41.43</td>\n      <td>0:00:45.90</td>\n      <td>粉</td>\n      <td>NaN</td>\n      <td>0</td>\n      <td>0</td>\n      <td>0</td>\n      <td>NaN</td>\n      <td>A大学毕业之后，进了一家混蛋黑企</td>\n    </tr>\n    <tr>\n      <th>2</th>\n      <td>Dialogue: 0</td>\n      <td>0:00:46.20</td>\n      <td>0:00:51.20</td>\n      <td>粉</td>\n      <td>NaN</td>\n      <td>0</td>\n      <td>0</td>\n      <td>0</td>\n      <td>NaN</td>\n      <td>A为了不弄脏简历和同僚互相鼓励忍耐了下来</td>\n    </tr>\n    <tr>\n      <th>3</th>\n      <td>Dialogue: 0</td>\n      <td>0:00:52.13</td>\n      <td>0:00:55.90</td>\n      <td>粉</td>\n      <td>NaN</td>\n      <td>0</td>\n      <td>0</td>\n      <td>0</td>\n      <td>NaN</td>\n      <td>A但是今天，我死了</td>\n    </tr>\n    <tr>\n      <th>4</th>\n      <td>Dialogue: 0</td>\n      <td>0:00:57.86</td>\n      <td>0:01:01.80</td>\n      <td>粉</td>\n      <td>NaN</td>\n      <td>0</td>\n      <td>0</td>\n      <td>0</td>\n      <td>NaN</td>\n      <td>A然后现在，我正在被最终审判</td>\n    </tr>\n    <tr>\n      <th>...</th>\n      <td>...</td>\n      <td>...</td>\n      <td>...</td>\n      <td>...</td>\n      <td>...</td>\n      <td>...</td>\n      <td>...</td>\n      <td>...</td>\n      <td>...</td>\n      <td>...</td>\n    </tr>\n    <tr>\n      <th>407</th>\n      <td>Dialogue: 0</td>\n      <td>1:00:19.00</td>\n      <td>1:00:20.46</td>\n      <td>青</td>\n      <td>NaN</td>\n      <td>0</td>\n      <td>0</td>\n      <td>0</td>\n      <td>NaN</td>\n      <td>A西之神「喂」</td>\n    </tr>\n    <tr>\n      <th>408</th>\n      <td>Dialogue: 0</td>\n      <td>1:00:20.76</td>\n      <td>1:00:24.46</td>\n      <td>青</td>\n      <td>NaN</td>\n      <td>0</td>\n      <td>0</td>\n      <td>0</td>\n      <td>NaN</td>\n      <td>A西之神「你还不清楚自己上司是谁吗」</td>\n    </tr>\n    <tr>\n      <th>409</th>\n      <td>Dialogue: 0</td>\n      <td>1:00:27.10</td>\n      <td>1:00:36.43</td>\n      <td>青</td>\n      <td>NaN</td>\n      <td>0</td>\n      <td>0</td>\n      <td>0</td>\n      <td>NaN</td>\n      <td>A西之神「啊♥ 我可是真正的神祗哦♥」</td>\n    </tr>\n    <tr>\n      <th>410</th>\n      <td>Dialogue: 0</td>\n      <td>1:00:36.73</td>\n      <td>1:00:44.79</td>\n      <td>青</td>\n      <td>NaN</td>\n      <td>0</td>\n      <td>0</td>\n      <td>0</td>\n      <td>NaN</td>\n      <td>A西之神「呜啊♥ 改变自己的性别这种事情♥ 轻轻松松…啊 呜♥」</td>\n    </tr>\n    <tr>\n      <th>575</th>\n      <td>Dialogue: 0</td>\n      <td>1:00:45.10</td>\n      <td>1:00:47.36</td>\n      <td>黑</td>\n      <td>NaN</td>\n      <td>0</td>\n      <td>0</td>\n      <td>0</td>\n      <td>NaN</td>\n      <td>A「是神」</td>\n    </tr>\n  </tbody>\n</table>\n<p>576 rows × 10 columns</p>\n</div>"
     },
     "metadata": {},
     "execution_count": 35
    }
   ],
   "source": [
    "df2"
   ]
  },
  {
   "cell_type": "code",
   "execution_count": 36,
   "metadata": {},
   "outputs": [],
   "source": []
  },
  {
   "cell_type": "code",
   "execution_count": 31,
   "metadata": {},
   "outputs": [
    {
     "output_type": "stream",
     "name": "stdout",
     "text": [
      "None\n"
     ]
    }
   ],
   "source": [
    "print(gfg_csv_data)"
   ]
  },
  {
   "cell_type": "code",
   "execution_count": null,
   "metadata": {},
   "outputs": [],
   "source": [
    "cv2.imwrite('ocr.png',image)"
   ]
  }
 ]
}