{
  "cells": [
    {
      "cell_type": "code",
      "execution_count": null,
      "metadata": {
        "colab": {
          "base_uri": "https://localhost:8080/",
          "height": 401
        },
        "id": "N5aSw7ZiG_DP",
        "outputId": "987c6ef2-6bfa-4d19-efd0-8af9b2db924a"
      },
      "outputs": [],
      "source": [
        "import pandas as pd \n",
        "import numpy as np\n",
        "df_old = pd.read_stata(\"test02.dta\")\n",
        "df=df_old.rename(columns={'d01_it097':'税金等調整前当期利益','d01_it103':'税効果'})\n",
        "df['税効果/純利益']=df['税効果']/df['税金等調整前当期利益']"
      ]
    },
    {
      "cell_type": "code",
      "execution_count": null,
      "metadata": {
        "colab": {
          "base_uri": "https://localhost:8080/",
          "height": 249
        },
        "id": "cQSG1-yY517Q",
        "outputId": "0e270738-b3ff-4e0d-a20f-42afb43feac5"
      },
      "outputs": [],
      "source": [
        "def 求平均(l):\n",
        "    n = len(l)\n",
        "    if n == 0:\n",
        "        return np.nan\n",
        "    sum = 0\n",
        "    for i in l:\n",
        "        sum += float(i)\n",
        "    return sum/n\n",
        "\n",
        "dic = {}\n",
        "for index, row in df.iterrows():\n",
        "    if dic.get(row['nkcode']) is None:\n",
        "        dic[row['nkcode']] = []\n",
        "    if not pd.isna(row['税効果']):\n",
        "        dic[row['nkcode']].append(row['税効果'])\n",
        "\n",
        "df['税効果平均'] = 0\n",
        "for k in dic:\n",
        "    df.税効果平均[df.nkcode==k] = 求平均(dic[k])\n",
        "df\n",
        "#df[['nkcode','税効果','average']]"
      ]
    },
    {
      "cell_type": "code",
      "execution_count": null,
      "metadata": {
        "id": "foshQqvU9aKJ"
      },
      "outputs": [],
      "source": [
        "df_withoutna=df.dropna(subset=['税効果','price'])\n",
        "df_withoutna"
      ]
    },
    {
      "cell_type": "code",
      "execution_count": null,
      "metadata": {
        "id": "T_dU-JVL-4Hl"
      },
      "outputs": [],
      "source": [
        "df_withoutna['分散_前']=np.square(df_withoutna['税効果']-df_withoutna['税効果平均'])\n",
        "df_withoutna"
      ]
    },
    {
      "cell_type": "code",
      "execution_count": null,
      "metadata": {
        "id": "wE0Gjt3VAyCT"
      },
      "outputs": [],
      "source": [
        "dic2 = {}\n",
        "for index, row in df_withoutna.iterrows():\n",
        "    if dic2.get(row['nkcode']) is None:\n",
        "        dic2[row['nkcode']] = []\n",
        "    if not pd.isna(row['分散_前']):\n",
        "        dic2[row['nkcode']].append(row['分散_前'])\n",
        "\n",
        "def 求標準偏差(l):\n",
        "    n = len(l)\n",
        "    if n <= 1:\n",
        "        return np.nan\n",
        "    sum = 0\n",
        "    for i in l:\n",
        "        sum += float(i)\n",
        "    return np.sqrt(sum/(n-1))\n",
        "\n",
        "df_withoutna['分散_后'] = 0\n",
        "for k in dic2:\n",
        "    df_withoutna.分散_后[df_withoutna.nkcode==k] = 求標準偏差(dic2[k])\n",
        "df_withoutna=df_withoutna.dropna(subset=['分散_后'])\n",
        "df_withoutna"
      ]
    },
    {
      "cell_type": "code",
      "execution_count": null,
      "metadata": {
        "id": "0WmfdyBQ7pkh"
      },
      "outputs": [],
      "source": [
        "stock5years=df_withoutna['acc'].isin([201203]) | df_withoutna['acc'].isin([201703])\n",
        "df_withoutna=df_withoutna[stock5years]\n",
        "df_withoutna"
      ]
    },
    {
      "cell_type": "code",
      "execution_count": null,
      "metadata": {
        "id": "BC-DZ_6qXsS9"
      },
      "outputs": [],
      "source": [
        "dic3 = {}\n",
        "for index, row in df_withoutna.iterrows():\n",
        "    if dic3.get(row['nkcode']) is None:\n",
        "        dic3[row['nkcode']] = []\n",
        "    if not pd.isna(row['acc']):\n",
        "        dic3[row['nkcode']].append(row['acc'])\n",
        "\n",
        "dic3"
      ]
    },
    {
      "cell_type": "code",
      "execution_count": null,
      "metadata": {
        "id": "MMnJs7RoX3EZ"
      },
      "outputs": [],
      "source": [
        "from pandas.core.frame import DataFrame\n",
        "\n",
        "select = df_withoutna.nkcode == 0\n",
        "for key,values in dic3.items():\n",
        "   if len(values)==2:\n",
        "    #  print(key)\n",
        "     select |= df_withoutna.nkcode == int(key)\n",
        "     #df_stock = DataFrame(df_withoutna['nkcode']==int(key))\n",
        "\n",
        "df_withoutna[select]"
      ]
    },
    {
      "cell_type": "code",
      "execution_count": null,
      "metadata": {
        "id": "dGwTRMX3CKho"
      },
      "outputs": [],
      "source": [
        "df_completed=df_withoutna[['nkcode','nkil','税効果平均','分散_后']]\n",
        "df_completed=df_completed.drop_duplicates()\n",
        "df_completed"
      ]
    },
    {
      "cell_type": "code",
      "execution_count": null,
      "metadata": {
        "id": "GXhjr5mCGWoI"
      },
      "outputs": [],
      "source": [
        "from sklearn.cluster import KMeans\n",
        "\n",
        "iris = df_completed\n",
        "X_iris=iris[['税効果平均', '分散_后']].values\n",
        "\n",
        "model = KMeans(n_clusters=5) # k-meansモデル\n",
        "model.fit(X_iris) # モデルをデータに適合\n",
        "y_km=model.predict(X_iris) # クラスタを予測\n",
        "\n",
        "iris['cluster']=y_km\n",
        "iris.plot.scatter(x='税効果平均', y='分散_后', c='cluster', colormap='viridis');"
      ]
    },
    {
      "cell_type": "code",
      "execution_count": null,
      "metadata": {
        "id": "OFpupJ7GOQZO"
      },
      "outputs": [],
      "source": [
        "df_completed = df_completed[df_completed['分散_后']<30000]\n",
        "df_completed = df_completed[df_completed['税効果平均']<2000]\n",
        "df_completed = df_completed[df_completed['税効果平均']>-2000]\n",
        "\n",
        "df_completed"
      ]
    },
    {
      "cell_type": "code",
      "execution_count": null,
      "metadata": {
        "id": "HXDM07EKPtEL"
      },
      "outputs": [],
      "source": [
        "iris = df_completed\n",
        "X_iris=iris[['税効果平均', '分散_后']].values\n",
        "\n",
        "model = KMeans(n_clusters=5) # k-meansモデル\n",
        "model.fit(X_iris) # モデルをデータに適合\n",
        "y_km=model.predict(X_iris) # クラスタを予測\n",
        "\n",
        "iris['cluster']=y_km\n",
        "iris.plot.scatter(x='税効果平均', y='分散_后', c='cluster', colormap='viridis');"
      ]
    },
    {
      "cell_type": "code",
      "execution_count": null,
      "metadata": {
        "id": "3Y74vgHxU-Fk"
      },
      "outputs": [],
      "source": [
        "df_completed['業界'] = df_completed['nkil']//1000%100\n",
        "df_completed"
      ]
    },
    {
      "cell_type": "code",
      "execution_count": null,
      "metadata": {
        "id": "oLaCNY7fXpQs"
      },
      "outputs": [],
      "source": [
        "業界=df_completed['業界'].unique()\n",
        "print(業界)\n",
        "print(len(業界))"
      ]
    },
    {
      "cell_type": "code",
      "execution_count": null,
      "metadata": {
        "id": "yeN8FstAX2tl"
      },
      "outputs": [],
      "source": [
        "for i in 業界:\n",
        "  df_completed_gyoukai = df_completed[df_completed['業界']==i]\n",
        "  print(df_completed_gyoukai)"
      ]
    },
    {
      "cell_type": "code",
      "execution_count": null,
      "metadata": {
        "id": "iaG-WShIZfm7"
      },
      "outputs": [],
      "source": [
        "for i in 業界:\n",
        "  df_completed_gyoukai = df_completed[df_completed['業界']==i]\n",
        "  df_completed_gyoukai.to_csv(str(i)+'.csv',index=False)"
      ]
    },
    {
      "cell_type": "code",
      "execution_count": null,
      "metadata": {
        "id": "2LuoWipdu-Mu"
      },
      "outputs": [],
      "source": [
        "from sklearn.cluster import KMeans\n",
        "\n",
        "iris = pd.read_csv('53.csv')\n",
        "X_iris=iris[['税効果平均', '分散_后']].values\n",
        "\n",
        "model = KMeans(n_clusters=5) # k-meansモデル\n",
        "model.fit(X_iris) # モデルをデータに適合\n",
        "y_km=model.predict(X_iris) # クラスタを予測\n",
        "\n",
        "iris['cluster']=y_km\n",
        "iris.plot.scatter(x='税効果平均', y='分散_后', c='cluster', colormap='viridis');\n"
      ]
    },
    {
      "cell_type": "code",
      "execution_count": null,
      "metadata": {
        "id": "_1V_L3vs6Rg3"
      },
      "outputs": [],
      "source": []
    }
  ],
  "metadata": {
    "colab": {
      "collapsed_sections": [],
      "name": "K-means with zeikouka.ipynb",
      "provenance": []
    },
    "kernelspec": {
      "display_name": "Python 3",
      "name": "python3"
    },
    "language_info": {
      "codemirror_mode": {
        "name": "ipython",
        "version": 3
      },
      "file_extension": ".py",
      "mimetype": "text/x-python",
      "name": "python",
      "nbconvert_exporter": "python",
      "pygments_lexer": "ipython3",
      "version": "3.9.9"
    }
  },
  "nbformat": 4,
  "nbformat_minor": 0
}
